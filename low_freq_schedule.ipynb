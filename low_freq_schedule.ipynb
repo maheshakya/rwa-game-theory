{
 "cells": [
  {
   "cell_type": "code",
   "execution_count": 9,
   "metadata": {},
   "outputs": [],
   "source": [
    "from cvxopt import matrix, solvers\n",
    "import numpy as np\n",
    "import scipy\n",
    "from scipy.special import comb\n",
    "from itertools import combinations\n",
    "from matplotlib import pyplot as plt\n",
    "\n",
    "solvers.options['show_progress'] = False\n",
    "rng = np.random.RandomState(8)"
   ]
  },
  {
   "cell_type": "code",
   "execution_count": 10,
   "metadata": {},
   "outputs": [
    {
     "name": "stdout",
     "output_type": "stream",
     "text": [
      "number of attacker strategies:  150\n",
      "p_min:  1.5\n"
     ]
    }
   ],
   "source": [
    "N = 12\n",
    "M = 6\n",
    "S = 5\n",
    "T = 100\n",
    "r_max = 30\n",
    "l = 4\n",
    "p_min = M/4\n",
    "reward_constant = 10\n",
    "sensor_constant = 2\n",
    "cost_constant = 0.005\n",
    "risk_constant = 0.005\n",
    "cost_risk_constant = 0.1\n",
    "\n",
    "print('number of attacker strategies: ', comb(S, l, exact=True)*r_max)\n",
    "print('p_min: ', p_min)"
   ]
  },
  {
   "cell_type": "code",
   "execution_count": 11,
   "metadata": {},
   "outputs": [
    {
     "name": "stdout",
     "output_type": "stream",
     "text": [
      "(6, 12, 5)\n"
     ]
    }
   ],
   "source": [
    "def s(a):\n",
    "    return np.sqrt(a)\n",
    "\n",
    "dist_T_R = [[0, 0, 10, 20, 0, 0, 10, 20, 10, 10, 20, 20],\n",
    "            [10, 0, 0, 10, 10, 0, 0, 10, s(2)*10, 10, s(5)*10, 20],\n",
    "            [s(5)*10, s(2)*10, 10 ,10, 20, 10, 0, 0, 20, 10, s(5), s(2)*10],\n",
    "            [s(2)*10, 10, 10, s(2)*10, 10, 0, 0, 10, 10, 0, s(2)*10, 10],\n",
    "            [10, s(2)*10, s(5)*10, s(10)*10, 0, 10, 20, 30, 0, 10, 10, s(2)*10], \n",
    "            [s(5)*10, 20, 20, s(8)*10, s(2)*10, 10, 10, s(2)*10, 10, 0, 10, 0]]\n",
    "dist_T_R = np.array(dist_T_R)\n",
    "\n",
    "dist_T_S = [[10, 30, 10, s(2)*10, s(10)*10],\n",
    "           [s(2)*10, 10, 20, 10, s(13)*10],\n",
    "           [s(2)*10, 10, 30, 0, s(8)*10],\n",
    "           [s(5)*10, s(5)*10, 20, 0, s(2)*2],\n",
    "           [20, s(17)*10, 0, 10, 20],\n",
    "           [s(10)*10, s(8)*10, s(5)*10, 0, s(5)*10]]\n",
    "dist_T_S = np.array(dist_T_S)\n",
    "\n",
    "# directions \n",
    "dr = np.zeros((M, S, N))\n",
    "\n",
    "dr[0,0,0] = 1\n",
    "dr[0,1,1], dr[0,1,2], dr[0,1,3] = 1, 1, 1\n",
    "dr[0,2,4] = 1\n",
    "dr[0,3,5], dr[0,3,6] = 1, 1\n",
    "dr[0,4,4], dr[0,4,8], dr[0,4,10] = 1, 1, 1\n",
    "\n",
    "dr[1,0,0], dr[1,0,1] = 1, 1\n",
    "dr[1,1,2], dr[1,1, 3] = 1, 1\n",
    "dr[1,2,4], dr[1,2,5] = 1, 1\n",
    "dr[1,3,6] = 1\n",
    "dr[1,4,5], dr[1,4,8], dr[1,4,9], dr[1,4,10] = 1, 1, 1, 1\n",
    "\n",
    "dr[2,0,0], dr[2,0,1], dr[2,0,6] = 1, 1, 1\n",
    "dr[2,1,3], dr[2,1,7] = 1, 1\n",
    "dr[2,2,4], dr[2,2,5], dr[2,2,6] = 1, 1, 1\n",
    "dr[2,4,9], dr[2,4,10], dr[2,4,11] = 1, 1, 1\n",
    "\n",
    "dr[3,0,0], dr[3,0,1] = 1, 1\n",
    "dr[3,1,2], dr[3,1,3], dr[3,1,6], dr[3,1,7] = 1, 1, 1, 1\n",
    "dr[3,2,4], dr[3,2,5] = 1, 1\n",
    "dr[3,4,8], dr[3,4,9], dr[3,4,10] = 1, 1, 1\n",
    "\n",
    "dr[4,0,0], dr[4,0,4] = 1, 1\n",
    "dr[4,1,3], dr[4,1,5], dr[4,1,6] = 1, 1, 1\n",
    "dr[4,3,9] = 1\n",
    "dr[4,4,8], dr[4,4,10] = 1, 1\n",
    "\n",
    "dr[5,0,0], dr[5,0,1], dr[5,0,4], dr[5,0,5], dr[5,0,9] = 1, 1, 1, 1, 1\n",
    "dr[5,1,3], dr[5,1,6], dr[5,1,7] = 1, 1, 1\n",
    "dr[5,2,4], dr[5,2,8], dr[5,2,9] = 1, 1, 1\n",
    "dr[5,4,10], dr[5,4,11] = 1, 1\n",
    "\n",
    "dr = np.swapaxes(dr, 1, 2)\n",
    "print(dr.shape)\n",
    "\n",
    "# low frequency\n",
    "def low_freq_rss(d):\n",
    "    if d==0:\n",
    "        d=1\n",
    "    return -23 - 20 * np.log10(d)\n",
    "\n",
    "def compute_T_rss(dist_T):\n",
    "    a, b = dist_T.shape[0], dist_T.shape[1]\n",
    "    res = np.zeros((a, b))\n",
    "    for i in range(a):\n",
    "        for j in range(b):\n",
    "            res[i,j] = low_freq_rss(dist_T[i,j])\n",
    "    return res\n",
    "\n",
    "TR_rss = compute_T_rss(dist_T_R)\n",
    "TS_rss = compute_T_rss(dist_T_S)\n",
    "\n",
    "tot_rss = np.zeros((M, N, S))\n",
    "for a in range(M):\n",
    "    for b in range(N):\n",
    "        for c in range(S):\n",
    "            tot_rss[a,b,c] = TS_rss[a,c]\n",
    "\n",
    "# tot_rss = np.multiply(tot_rss, dr)\n",
    "max_tot_rss = np.max(tot_rss)\n",
    "rel_tot_rss = tot_rss - max_tot_rss\n",
    "rel_tot_rss = rel_tot_rss/10\n",
    "CF = np.power(10, rel_tot_rss)\n",
    "CF = np.multiply(CF, dr)"
   ]
  },
  {
   "cell_type": "code",
   "execution_count": 12,
   "metadata": {},
   "outputs": [],
   "source": [
    "r_max_s = rng.randint(1, r_max+1, S)\n",
    "RS = np.ones((r_max, S))\n",
    "risk_ratios = rng.rand(r_max, S)\n",
    "costs = np.zeros((r_max, S))\n",
    "risks = np.zeros((r_max, S))\n",
    "for r in range(r_max):\n",
    "    for s in range(S):\n",
    "        RS[r, s] = sensor_constant*np.minimum((r+1)/r_max_s[s], 1)\n",
    "        costs[r, s] = cost_constant*(r+1)\n",
    "        risks[r, s] = risk_constant*(risk_ratios[r, s])\n",
    "        \n",
    "AD = np.zeros((M, N, r_max, S))\n",
    "for m in range(M):\n",
    "    for n in range(N):\n",
    "        for r in range(r_max):\n",
    "            for s in range(S):\n",
    "                AD[m, n, r, s] = CF[m, n, s]*RS[r, s]\n",
    "\n",
    "pm = rng.rand(N, T)\n",
    "PM = rng.rand(N, T)*reward_constant\n",
    "\n",
    "# neighbors\n",
    "nbr = [[1, 1, 0, 1, 1, 0],\n",
    "      [1, 1, 0, 1, 0, 0],\n",
    "      [1, 1, 1, 1, 0, 0],\n",
    "      [0, 1, 1, 1, 0, 0],\n",
    "      [1, 1, 0, 1, 1, 0],\n",
    "      [1, 1, 1, 1, 1, 1],\n",
    "      [1, 1, 1, 1, 0, 0],\n",
    "      [0, 1, 1, 1, 0, 0],\n",
    "      [1, 0, 0, 1, 1, 1],\n",
    "      [1, 0, 1, 1, 1, 1],\n",
    "      [0, 0, 0, 1, 1, 1],\n",
    "      [0, 0, 0, 1, 1, 1]]\n",
    "\n",
    "nbr = np.array(nbr)"
   ]
  },
  {
   "cell_type": "code",
   "execution_count": null,
   "metadata": {},
   "outputs": [],
   "source": []
  },
  {
   "cell_type": "code",
   "execution_count": 13,
   "metadata": {},
   "outputs": [
    {
     "name": "stdout",
     "output_type": "stream",
     "text": [
      "(24, 7) (24,) (7,)\n"
     ]
    }
   ],
   "source": [
    "# create constraint matrices per time slot\n",
    "\n",
    "# regular constraints\n",
    "G = []\n",
    "h = []\n",
    "# c_j,t < 1\n",
    "for i in range(1, M+1, 1):\n",
    "    g = np.zeros(M+1)\n",
    "    g[i] = 1\n",
    "    G += [g]\n",
    "    h += [1]\n",
    "# c_j,t > 0\n",
    "for i in range(1, M+1, 1):\n",
    "    g = np.zeros(M+1)\n",
    "    g[i] = -1\n",
    "    G += [g]\n",
    "    h += [0]\n",
    "\n",
    "G = np.array(G).astype(float)\n",
    "h = np.array(h).astype(float)\n",
    "\n",
    "# for individual time slots\n",
    "full_nbr = np.hstack((np.zeros(N).reshape(N, 1), nbr)).astype(float)\n",
    "\n",
    "p_mins = np.ones(N)*p_min\n",
    "p_mins = np.sum(full_nbr, axis=1) - p_mins\n",
    "G = np.vstack((G, full_nbr))\n",
    "h = np.concatenate((h, p_mins))\n",
    "\n",
    "c = np.zeros(M+1).astype(float)\n",
    "c[0] = 1\n",
    "\n",
    "print(G.shape, h.shape, c.shape)"
   ]
  },
  {
   "cell_type": "code",
   "execution_count": 14,
   "metadata": {},
   "outputs": [],
   "source": [
    "sols = []\n",
    "for t in range(T):\n",
    "    # utility constraints\n",
    "    A = []\n",
    "    b = []\n",
    "    comb = combinations(list(np.arange(S, dtype=int)), l)\n",
    "    for cm in list(comb):\n",
    "        for r in range(r_max):\n",
    "            list_c = list(cm)\n",
    "    #           temp = np.multiply(np.sum(PD[:, r, list_c], axis=1), Re_a[:, t])\n",
    "            temp = np.dot(np.sum(AD[:, :, r, list_c], axis=2), PM[:, t])\n",
    "            if (np.sum(costs[r, list_c]) + np.sum(risks[r, list_c]))/l <= cost_risk_constant:\n",
    "#               print((np.sum(costs[r, list_c]) + np.sum(risks[r, list_c]))/l)\n",
    "                A += [temp]\n",
    "                b += [np.sum(temp)]\n",
    "#               b += [np.sum(temp)]\n",
    "    A = np.array(A)\n",
    "    b = np.array(b)\n",
    "    A = np.hstack((np.ones(A.shape[0]).reshape((A.shape[0], 1)), A)).astype(float)\n",
    "\n",
    "    # combine constraints \n",
    "    A = np.vstack((G, -1*A))\n",
    "    b = np.concatenate((h, -1*b))\n",
    "\n",
    "    A_ = matrix(A)\n",
    "    b_ = matrix(b)\n",
    "    c_ = matrix(c)\n",
    "\n",
    "    sol = solvers.lp(c_, A_, b_, solver='glpk')\n",
    "    #   sol = solvers.lp(c_, A_, b_)\n",
    "    solution = np.array(list(sol['x']))\n",
    "    status = sol['status']        \n",
    "    sols += [solution[1:]]\n",
    "sols = np.array(sols)"
   ]
  },
  {
   "cell_type": "code",
   "execution_count": 15,
   "metadata": {},
   "outputs": [],
   "source": [
    "means = np.mean(sols, axis=0)\n",
    "stds = np.std(sols, axis=0)"
   ]
  },
  {
   "cell_type": "code",
   "execution_count": 16,
   "metadata": {},
   "outputs": [
    {
     "name": "stdout",
     "output_type": "stream",
     "text": [
      "[0.503 0.005 0.503 0.992 0.294 0.214]\n"
     ]
    }
   ],
   "source": [
    "print(np.around(means, 3))"
   ]
  },
  {
   "cell_type": "code",
   "execution_count": null,
   "metadata": {},
   "outputs": [],
   "source": []
  },
  {
   "cell_type": "code",
   "execution_count": null,
   "metadata": {},
   "outputs": [],
   "source": []
  },
  {
   "cell_type": "code",
   "execution_count": null,
   "metadata": {},
   "outputs": [],
   "source": []
  }
 ],
 "metadata": {
  "kernelspec": {
   "display_name": "Python 3",
   "language": "python",
   "name": "python3"
  },
  "language_info": {
   "codemirror_mode": {
    "name": "ipython",
    "version": 3
   },
   "file_extension": ".py",
   "mimetype": "text/x-python",
   "name": "python",
   "nbconvert_exporter": "python",
   "pygments_lexer": "ipython3",
   "version": "3.7.4"
  }
 },
 "nbformat": 4,
 "nbformat_minor": 4
}
